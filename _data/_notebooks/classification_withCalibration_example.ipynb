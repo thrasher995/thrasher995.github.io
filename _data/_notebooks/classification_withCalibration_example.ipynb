{
 "cells": [
  {
   "cell_type": "code",
   "execution_count": 1,
   "id": "5f32b187",
   "metadata": {},
   "outputs": [],
   "source": [
    "import pandas as pd\n",
    "import numpy as np\n",
    "from random import randint"
   ]
  },
  {
   "cell_type": "markdown",
   "id": "300eaac1",
   "metadata": {},
   "source": [
    "## Step 1: Getting Data Ready"
   ]
  },
  {
   "cell_type": "code",
   "execution_count": 2,
   "id": "10546412",
   "metadata": {},
   "outputs": [],
   "source": [
    "# Storing dataset into a Pandas DataFrame\n",
    "heart_disease_df = pd.read_csv(\"datasets/heart-disease.csv\")"
   ]
  },
  {
   "cell_type": "code",
   "execution_count": 3,
   "id": "e4c9a053",
   "metadata": {},
   "outputs": [
    {
     "data": {
      "text/html": [
       "<div>\n",
       "<style scoped>\n",
       "    .dataframe tbody tr th:only-of-type {\n",
       "        vertical-align: middle;\n",
       "    }\n",
       "\n",
       "    .dataframe tbody tr th {\n",
       "        vertical-align: top;\n",
       "    }\n",
       "\n",
       "    .dataframe thead th {\n",
       "        text-align: right;\n",
       "    }\n",
       "</style>\n",
       "<table border=\"1\" class=\"dataframe\">\n",
       "  <thead>\n",
       "    <tr style=\"text-align: right;\">\n",
       "      <th></th>\n",
       "      <th>age</th>\n",
       "      <th>sex</th>\n",
       "      <th>cp</th>\n",
       "      <th>trestbps</th>\n",
       "      <th>chol</th>\n",
       "      <th>fbs</th>\n",
       "      <th>restecg</th>\n",
       "      <th>thalach</th>\n",
       "      <th>exang</th>\n",
       "      <th>oldpeak</th>\n",
       "      <th>slope</th>\n",
       "      <th>ca</th>\n",
       "      <th>thal</th>\n",
       "      <th>target</th>\n",
       "    </tr>\n",
       "  </thead>\n",
       "  <tbody>\n",
       "    <tr>\n",
       "      <th>0</th>\n",
       "      <td>63</td>\n",
       "      <td>1</td>\n",
       "      <td>3</td>\n",
       "      <td>145</td>\n",
       "      <td>233</td>\n",
       "      <td>1</td>\n",
       "      <td>0</td>\n",
       "      <td>150</td>\n",
       "      <td>0</td>\n",
       "      <td>2.3</td>\n",
       "      <td>0</td>\n",
       "      <td>0</td>\n",
       "      <td>1</td>\n",
       "      <td>1</td>\n",
       "    </tr>\n",
       "    <tr>\n",
       "      <th>1</th>\n",
       "      <td>37</td>\n",
       "      <td>1</td>\n",
       "      <td>2</td>\n",
       "      <td>130</td>\n",
       "      <td>250</td>\n",
       "      <td>0</td>\n",
       "      <td>1</td>\n",
       "      <td>187</td>\n",
       "      <td>0</td>\n",
       "      <td>3.5</td>\n",
       "      <td>0</td>\n",
       "      <td>0</td>\n",
       "      <td>2</td>\n",
       "      <td>1</td>\n",
       "    </tr>\n",
       "    <tr>\n",
       "      <th>2</th>\n",
       "      <td>41</td>\n",
       "      <td>0</td>\n",
       "      <td>1</td>\n",
       "      <td>130</td>\n",
       "      <td>204</td>\n",
       "      <td>0</td>\n",
       "      <td>0</td>\n",
       "      <td>172</td>\n",
       "      <td>0</td>\n",
       "      <td>1.4</td>\n",
       "      <td>2</td>\n",
       "      <td>0</td>\n",
       "      <td>2</td>\n",
       "      <td>1</td>\n",
       "    </tr>\n",
       "    <tr>\n",
       "      <th>3</th>\n",
       "      <td>56</td>\n",
       "      <td>1</td>\n",
       "      <td>1</td>\n",
       "      <td>120</td>\n",
       "      <td>236</td>\n",
       "      <td>0</td>\n",
       "      <td>1</td>\n",
       "      <td>178</td>\n",
       "      <td>0</td>\n",
       "      <td>0.8</td>\n",
       "      <td>2</td>\n",
       "      <td>0</td>\n",
       "      <td>2</td>\n",
       "      <td>1</td>\n",
       "    </tr>\n",
       "    <tr>\n",
       "      <th>4</th>\n",
       "      <td>57</td>\n",
       "      <td>0</td>\n",
       "      <td>0</td>\n",
       "      <td>120</td>\n",
       "      <td>354</td>\n",
       "      <td>0</td>\n",
       "      <td>1</td>\n",
       "      <td>163</td>\n",
       "      <td>1</td>\n",
       "      <td>0.6</td>\n",
       "      <td>2</td>\n",
       "      <td>0</td>\n",
       "      <td>2</td>\n",
       "      <td>1</td>\n",
       "    </tr>\n",
       "  </tbody>\n",
       "</table>\n",
       "</div>"
      ],
      "text/plain": [
       "   age  sex  cp  trestbps  chol  fbs  restecg  thalach  exang  oldpeak  slope  \\\n",
       "0   63    1   3       145   233    1        0      150      0      2.3      0   \n",
       "1   37    1   2       130   250    0        1      187      0      3.5      0   \n",
       "2   41    0   1       130   204    0        0      172      0      1.4      2   \n",
       "3   56    1   1       120   236    0        1      178      0      0.8      2   \n",
       "4   57    0   0       120   354    0        1      163      1      0.6      2   \n",
       "\n",
       "   ca  thal  target  \n",
       "0   0     1       1  \n",
       "1   0     2       1  \n",
       "2   0     2       1  \n",
       "3   0     2       1  \n",
       "4   0     2       1  "
      ]
     },
     "execution_count": 3,
     "metadata": {},
     "output_type": "execute_result"
    }
   ],
   "source": [
    "# Printing head of DataFrame to make sure the data has been loaded correctly\n",
    "heart_disease_df.head()"
   ]
  },
  {
   "cell_type": "code",
   "execution_count": 4,
   "id": "d5384dad",
   "metadata": {},
   "outputs": [],
   "source": [
    "# Using Random seed to make results reproducible:\n",
    "np.random.seed(42)\n",
    "# Creating X & Y, where:\n",
    "# X: Feature columns in DataFrame (whatever is needed for predicting)\n",
    "# Y: Column to be predicted\n",
    "X = heart_disease_df.drop('target',axis = 1)\n",
    "Y = heart_disease_df['target']"
   ]
  },
  {
   "cell_type": "markdown",
   "id": "8d0e17fe",
   "metadata": {},
   "source": [
    "### Splitting dataset into train, validation, and test sets using the train_test_split method twice:"
   ]
  },
  {
   "cell_type": "code",
   "execution_count": 5,
   "id": "ac4c12f8",
   "metadata": {},
   "outputs": [],
   "source": [
    "from sklearn.model_selection import train_test_split\n",
    "# Splitting dataset into train, validation, and test sets using the train_test_split method twice:\n",
    "\n",
    "X_train_valid,X_test,Y_train_valid,Y_test = train_test_split(X,Y,test_size = 0.2)"
   ]
  },
  {
   "cell_type": "code",
   "execution_count": 6,
   "id": "0202ab1a",
   "metadata": {},
   "outputs": [],
   "source": [
    "X_train,X_valid,Y_train,Y_valid = train_test_split(X_train_valid,Y_train_valid,train_size = 0.7)"
   ]
  },
  {
   "cell_type": "code",
   "execution_count": 7,
   "id": "01895bdc",
   "metadata": {
    "scrolled": true
   },
   "outputs": [
    {
     "data": {
      "text/plain": [
       "((169, 13), (169,), (73, 13), (73,), (61, 13), (61,))"
      ]
     },
     "execution_count": 7,
     "metadata": {},
     "output_type": "execute_result"
    }
   ],
   "source": [
    "# Looking at shapes to ensure that the dataset was split properly:\n",
    "X_train.shape,Y_train.shape,X_valid.shape,Y_valid.shape,X_test.shape,Y_test.shape"
   ]
  },
  {
   "cell_type": "markdown",
   "id": "b90827db",
   "metadata": {},
   "source": [
    "## Step 2: Choosing the Model\n",
    "Done by following the Model Selection Map. In this example, it's a Classification problem.\n",
    "<br>This step involves trying different models.\n",
    "<br>RandomForestClassifier from sklearn.ensemble is used."
   ]
  },
  {
   "cell_type": "code",
   "execution_count": 8,
   "id": "9558d14a",
   "metadata": {},
   "outputs": [],
   "source": [
    "from sklearn.ensemble import RandomForestClassifier\n",
    "model = RandomForestClassifier()"
   ]
  },
  {
   "cell_type": "markdown",
   "id": "8686d4fd",
   "metadata": {},
   "source": [
    "## Step 3: Fitting Model to Data & Making Predictions"
   ]
  },
  {
   "cell_type": "code",
   "execution_count": 9,
   "id": "67aa0e5b",
   "metadata": {
    "scrolled": true
   },
   "outputs": [
    {
     "data": {
      "text/html": [
       "<style>#sk-container-id-1 {color: black;background-color: white;}#sk-container-id-1 pre{padding: 0;}#sk-container-id-1 div.sk-toggleable {background-color: white;}#sk-container-id-1 label.sk-toggleable__label {cursor: pointer;display: block;width: 100%;margin-bottom: 0;padding: 0.3em;box-sizing: border-box;text-align: center;}#sk-container-id-1 label.sk-toggleable__label-arrow:before {content: \"▸\";float: left;margin-right: 0.25em;color: #696969;}#sk-container-id-1 label.sk-toggleable__label-arrow:hover:before {color: black;}#sk-container-id-1 div.sk-estimator:hover label.sk-toggleable__label-arrow:before {color: black;}#sk-container-id-1 div.sk-toggleable__content {max-height: 0;max-width: 0;overflow: hidden;text-align: left;background-color: #f0f8ff;}#sk-container-id-1 div.sk-toggleable__content pre {margin: 0.2em;color: black;border-radius: 0.25em;background-color: #f0f8ff;}#sk-container-id-1 input.sk-toggleable__control:checked~div.sk-toggleable__content {max-height: 200px;max-width: 100%;overflow: auto;}#sk-container-id-1 input.sk-toggleable__control:checked~label.sk-toggleable__label-arrow:before {content: \"▾\";}#sk-container-id-1 div.sk-estimator input.sk-toggleable__control:checked~label.sk-toggleable__label {background-color: #d4ebff;}#sk-container-id-1 div.sk-label input.sk-toggleable__control:checked~label.sk-toggleable__label {background-color: #d4ebff;}#sk-container-id-1 input.sk-hidden--visually {border: 0;clip: rect(1px 1px 1px 1px);clip: rect(1px, 1px, 1px, 1px);height: 1px;margin: -1px;overflow: hidden;padding: 0;position: absolute;width: 1px;}#sk-container-id-1 div.sk-estimator {font-family: monospace;background-color: #f0f8ff;border: 1px dotted black;border-radius: 0.25em;box-sizing: border-box;margin-bottom: 0.5em;}#sk-container-id-1 div.sk-estimator:hover {background-color: #d4ebff;}#sk-container-id-1 div.sk-parallel-item::after {content: \"\";width: 100%;border-bottom: 1px solid gray;flex-grow: 1;}#sk-container-id-1 div.sk-label:hover label.sk-toggleable__label {background-color: #d4ebff;}#sk-container-id-1 div.sk-serial::before {content: \"\";position: absolute;border-left: 1px solid gray;box-sizing: border-box;top: 0;bottom: 0;left: 50%;z-index: 0;}#sk-container-id-1 div.sk-serial {display: flex;flex-direction: column;align-items: center;background-color: white;padding-right: 0.2em;padding-left: 0.2em;position: relative;}#sk-container-id-1 div.sk-item {position: relative;z-index: 1;}#sk-container-id-1 div.sk-parallel {display: flex;align-items: stretch;justify-content: center;background-color: white;position: relative;}#sk-container-id-1 div.sk-item::before, #sk-container-id-1 div.sk-parallel-item::before {content: \"\";position: absolute;border-left: 1px solid gray;box-sizing: border-box;top: 0;bottom: 0;left: 50%;z-index: -1;}#sk-container-id-1 div.sk-parallel-item {display: flex;flex-direction: column;z-index: 1;position: relative;background-color: white;}#sk-container-id-1 div.sk-parallel-item:first-child::after {align-self: flex-end;width: 50%;}#sk-container-id-1 div.sk-parallel-item:last-child::after {align-self: flex-start;width: 50%;}#sk-container-id-1 div.sk-parallel-item:only-child::after {width: 0;}#sk-container-id-1 div.sk-dashed-wrapped {border: 1px dashed gray;margin: 0 0.4em 0.5em 0.4em;box-sizing: border-box;padding-bottom: 0.4em;background-color: white;}#sk-container-id-1 div.sk-label label {font-family: monospace;font-weight: bold;display: inline-block;line-height: 1.2em;}#sk-container-id-1 div.sk-label-container {text-align: center;}#sk-container-id-1 div.sk-container {/* jupyter's `normalize.less` sets `[hidden] { display: none; }` but bootstrap.min.css set `[hidden] { display: none !important; }` so we also need the `!important` here to be able to override the default hidden behavior on the sphinx rendered scikit-learn.org. See: https://github.com/scikit-learn/scikit-learn/issues/21755 */display: inline-block !important;position: relative;}#sk-container-id-1 div.sk-text-repr-fallback {display: none;}</style><div id=\"sk-container-id-1\" class=\"sk-top-container\"><div class=\"sk-text-repr-fallback\"><pre>RandomForestClassifier()</pre><b>In a Jupyter environment, please rerun this cell to show the HTML representation or trust the notebook. <br />On GitHub, the HTML representation is unable to render, please try loading this page with nbviewer.org.</b></div><div class=\"sk-container\" hidden><div class=\"sk-item\"><div class=\"sk-estimator sk-toggleable\"><input class=\"sk-toggleable__control sk-hidden--visually\" id=\"sk-estimator-id-1\" type=\"checkbox\" checked><label for=\"sk-estimator-id-1\" class=\"sk-toggleable__label sk-toggleable__label-arrow\">RandomForestClassifier</label><div class=\"sk-toggleable__content\"><pre>RandomForestClassifier()</pre></div></div></div></div></div>"
      ],
      "text/plain": [
       "RandomForestClassifier()"
      ]
     },
     "execution_count": 9,
     "metadata": {},
     "output_type": "execute_result"
    }
   ],
   "source": [
    "# Fitting training data to model using fit () method\n",
    "model.fit(X_train, Y_train)"
   ]
  },
  {
   "cell_type": "markdown",
   "id": "800fd573",
   "metadata": {},
   "source": [
    "Instantiating Calibration Model:"
   ]
  },
  {
   "cell_type": "code",
   "execution_count": 10,
   "id": "1510eff2",
   "metadata": {},
   "outputs": [],
   "source": [
    "from sklearn.calibration import CalibratedClassifierCV\n",
    "cal_model = CalibratedClassifierCV(model,method=\"sigmoid\",cv=5)"
   ]
  },
  {
   "cell_type": "code",
   "execution_count": 11,
   "id": "acaa5142",
   "metadata": {},
   "outputs": [
    {
     "data": {
      "text/html": [
       "<style>#sk-container-id-2 {color: black;background-color: white;}#sk-container-id-2 pre{padding: 0;}#sk-container-id-2 div.sk-toggleable {background-color: white;}#sk-container-id-2 label.sk-toggleable__label {cursor: pointer;display: block;width: 100%;margin-bottom: 0;padding: 0.3em;box-sizing: border-box;text-align: center;}#sk-container-id-2 label.sk-toggleable__label-arrow:before {content: \"▸\";float: left;margin-right: 0.25em;color: #696969;}#sk-container-id-2 label.sk-toggleable__label-arrow:hover:before {color: black;}#sk-container-id-2 div.sk-estimator:hover label.sk-toggleable__label-arrow:before {color: black;}#sk-container-id-2 div.sk-toggleable__content {max-height: 0;max-width: 0;overflow: hidden;text-align: left;background-color: #f0f8ff;}#sk-container-id-2 div.sk-toggleable__content pre {margin: 0.2em;color: black;border-radius: 0.25em;background-color: #f0f8ff;}#sk-container-id-2 input.sk-toggleable__control:checked~div.sk-toggleable__content {max-height: 200px;max-width: 100%;overflow: auto;}#sk-container-id-2 input.sk-toggleable__control:checked~label.sk-toggleable__label-arrow:before {content: \"▾\";}#sk-container-id-2 div.sk-estimator input.sk-toggleable__control:checked~label.sk-toggleable__label {background-color: #d4ebff;}#sk-container-id-2 div.sk-label input.sk-toggleable__control:checked~label.sk-toggleable__label {background-color: #d4ebff;}#sk-container-id-2 input.sk-hidden--visually {border: 0;clip: rect(1px 1px 1px 1px);clip: rect(1px, 1px, 1px, 1px);height: 1px;margin: -1px;overflow: hidden;padding: 0;position: absolute;width: 1px;}#sk-container-id-2 div.sk-estimator {font-family: monospace;background-color: #f0f8ff;border: 1px dotted black;border-radius: 0.25em;box-sizing: border-box;margin-bottom: 0.5em;}#sk-container-id-2 div.sk-estimator:hover {background-color: #d4ebff;}#sk-container-id-2 div.sk-parallel-item::after {content: \"\";width: 100%;border-bottom: 1px solid gray;flex-grow: 1;}#sk-container-id-2 div.sk-label:hover label.sk-toggleable__label {background-color: #d4ebff;}#sk-container-id-2 div.sk-serial::before {content: \"\";position: absolute;border-left: 1px solid gray;box-sizing: border-box;top: 0;bottom: 0;left: 50%;z-index: 0;}#sk-container-id-2 div.sk-serial {display: flex;flex-direction: column;align-items: center;background-color: white;padding-right: 0.2em;padding-left: 0.2em;position: relative;}#sk-container-id-2 div.sk-item {position: relative;z-index: 1;}#sk-container-id-2 div.sk-parallel {display: flex;align-items: stretch;justify-content: center;background-color: white;position: relative;}#sk-container-id-2 div.sk-item::before, #sk-container-id-2 div.sk-parallel-item::before {content: \"\";position: absolute;border-left: 1px solid gray;box-sizing: border-box;top: 0;bottom: 0;left: 50%;z-index: -1;}#sk-container-id-2 div.sk-parallel-item {display: flex;flex-direction: column;z-index: 1;position: relative;background-color: white;}#sk-container-id-2 div.sk-parallel-item:first-child::after {align-self: flex-end;width: 50%;}#sk-container-id-2 div.sk-parallel-item:last-child::after {align-self: flex-start;width: 50%;}#sk-container-id-2 div.sk-parallel-item:only-child::after {width: 0;}#sk-container-id-2 div.sk-dashed-wrapped {border: 1px dashed gray;margin: 0 0.4em 0.5em 0.4em;box-sizing: border-box;padding-bottom: 0.4em;background-color: white;}#sk-container-id-2 div.sk-label label {font-family: monospace;font-weight: bold;display: inline-block;line-height: 1.2em;}#sk-container-id-2 div.sk-label-container {text-align: center;}#sk-container-id-2 div.sk-container {/* jupyter's `normalize.less` sets `[hidden] { display: none; }` but bootstrap.min.css set `[hidden] { display: none !important; }` so we also need the `!important` here to be able to override the default hidden behavior on the sphinx rendered scikit-learn.org. See: https://github.com/scikit-learn/scikit-learn/issues/21755 */display: inline-block !important;position: relative;}#sk-container-id-2 div.sk-text-repr-fallback {display: none;}</style><div id=\"sk-container-id-2\" class=\"sk-top-container\"><div class=\"sk-text-repr-fallback\"><pre>CalibratedClassifierCV(base_estimator=RandomForestClassifier(), cv=5)</pre><b>In a Jupyter environment, please rerun this cell to show the HTML representation or trust the notebook. <br />On GitHub, the HTML representation is unable to render, please try loading this page with nbviewer.org.</b></div><div class=\"sk-container\" hidden><div class=\"sk-item sk-dashed-wrapped\"><div class=\"sk-label-container\"><div class=\"sk-label sk-toggleable\"><input class=\"sk-toggleable__control sk-hidden--visually\" id=\"sk-estimator-id-2\" type=\"checkbox\" ><label for=\"sk-estimator-id-2\" class=\"sk-toggleable__label sk-toggleable__label-arrow\">CalibratedClassifierCV</label><div class=\"sk-toggleable__content\"><pre>CalibratedClassifierCV(base_estimator=RandomForestClassifier(), cv=5)</pre></div></div></div><div class=\"sk-parallel\"><div class=\"sk-parallel-item\"><div class=\"sk-item\"><div class=\"sk-label-container\"><div class=\"sk-label sk-toggleable\"><input class=\"sk-toggleable__control sk-hidden--visually\" id=\"sk-estimator-id-3\" type=\"checkbox\" ><label for=\"sk-estimator-id-3\" class=\"sk-toggleable__label sk-toggleable__label-arrow\">base_estimator: RandomForestClassifier</label><div class=\"sk-toggleable__content\"><pre>RandomForestClassifier()</pre></div></div></div><div class=\"sk-serial\"><div class=\"sk-item\"><div class=\"sk-estimator sk-toggleable\"><input class=\"sk-toggleable__control sk-hidden--visually\" id=\"sk-estimator-id-4\" type=\"checkbox\" ><label for=\"sk-estimator-id-4\" class=\"sk-toggleable__label sk-toggleable__label-arrow\">RandomForestClassifier</label><div class=\"sk-toggleable__content\"><pre>RandomForestClassifier()</pre></div></div></div></div></div></div></div></div></div></div>"
      ],
      "text/plain": [
       "CalibratedClassifierCV(base_estimator=RandomForestClassifier(), cv=5)"
      ]
     },
     "execution_count": 11,
     "metadata": {},
     "output_type": "execute_result"
    }
   ],
   "source": [
    "# Fitting validation dataset to calibration model using fit () method\n",
    "cal_model.fit(X_valid, Y_valid)"
   ]
  },
  {
   "cell_type": "code",
   "execution_count": 12,
   "id": "984cf4f0",
   "metadata": {},
   "outputs": [
    {
     "data": {
      "text/plain": [
       "array([0, 1, 1, 0, 1, 1, 1, 0, 0, 0, 1, 0, 1, 0, 1, 1, 1, 0, 0, 0, 0, 0,\n",
       "       1, 1, 1, 1, 1, 1, 0, 1, 0, 0, 0, 0, 1, 0, 1, 1, 1, 1, 1, 1, 1, 1,\n",
       "       1, 0, 1, 1, 0, 0, 0, 0, 1, 1, 0, 0, 0, 1, 0, 0, 0], dtype=int64)"
      ]
     },
     "execution_count": 12,
     "metadata": {},
     "output_type": "execute_result"
    }
   ],
   "source": [
    "# Making predictions using predict() method:\n",
    "Y_pred = model.predict(X_test)\n",
    "Y_pred"
   ]
  },
  {
   "cell_type": "code",
   "execution_count": 13,
   "id": "934c4520",
   "metadata": {},
   "outputs": [
    {
     "data": {
      "text/plain": [
       "array([0, 1, 1, 0, 1, 1, 0, 0, 0, 1, 1, 0, 1, 0, 1, 1, 1, 0, 0, 0, 1, 0,\n",
       "       0, 1, 1, 1, 1, 1, 0, 1, 0, 0, 0, 0, 0, 0, 1, 1, 1, 1, 1, 1, 1, 1,\n",
       "       1, 0, 1, 1, 0, 0, 0, 0, 1, 1, 0, 0, 0, 1, 0, 0, 0], dtype=int64)"
      ]
     },
     "execution_count": 13,
     "metadata": {},
     "output_type": "execute_result"
    }
   ],
   "source": [
    "Y_cal_pred = cal_model.predict(X_test)\n",
    "Y_cal_pred"
   ]
  },
  {
   "cell_type": "code",
   "execution_count": 14,
   "id": "93a0176c",
   "metadata": {},
   "outputs": [
    {
     "data": {
      "text/plain": [
       "array([[0.78, 0.22],\n",
       "       [0.44, 0.56],\n",
       "       [0.39, 0.61],\n",
       "       [0.92, 0.08],\n",
       "       [0.17, 0.83],\n",
       "       [0.25, 0.75],\n",
       "       [0.18, 0.82],\n",
       "       [0.95, 0.05],\n",
       "       [0.95, 0.05],\n",
       "       [0.51, 0.49]])"
      ]
     },
     "execution_count": 14,
     "metadata": {},
     "output_type": "execute_result"
    }
   ],
   "source": [
    "# Making predictions using predict_proba() method:\n",
    "Y_prob_pred = model.predict_proba(X_test)\n",
    "Y_prob_pred[:10]"
   ]
  },
  {
   "cell_type": "code",
   "execution_count": 15,
   "id": "f77b19a2",
   "metadata": {
    "scrolled": true
   },
   "outputs": [
    {
     "data": {
      "text/plain": [
       "array([[0.86397489, 0.13602511],\n",
       "       [0.35318614, 0.64681386],\n",
       "       [0.36572344, 0.63427656],\n",
       "       [0.80108322, 0.19891678],\n",
       "       [0.41853022, 0.58146978],\n",
       "       [0.11816887, 0.88183113],\n",
       "       [0.52455953, 0.47544047],\n",
       "       [0.85274099, 0.14725901],\n",
       "       [0.83784023, 0.16215977],\n",
       "       [0.38781564, 0.61218436]])"
      ]
     },
     "execution_count": 15,
     "metadata": {},
     "output_type": "execute_result"
    }
   ],
   "source": [
    "# Making predictions using predict_proba() method:\n",
    "Y_prob_cal_pred = cal_model.predict_proba(X_test)\n",
    "Y_prob_cal_pred[:10]"
   ]
  },
  {
   "cell_type": "markdown",
   "id": "b5345a52",
   "metadata": {},
   "source": [
    "## Step 4: Evaluating Model"
   ]
  },
  {
   "cell_type": "markdown",
   "id": "8d00f7a9",
   "metadata": {},
   "source": [
    "### 4.1: Using `score()` method:"
   ]
  },
  {
   "cell_type": "code",
   "execution_count": 16,
   "id": "58f9316e",
   "metadata": {},
   "outputs": [
    {
     "data": {
      "text/plain": [
       "1.0"
      ]
     },
     "execution_count": 16,
     "metadata": {},
     "output_type": "execute_result"
    }
   ],
   "source": [
    "# Perform .score on train set first:\n",
    "model.score(X_train, Y_train)"
   ]
  },
  {
   "cell_type": "code",
   "execution_count": 17,
   "id": "c3f07dfe",
   "metadata": {},
   "outputs": [
    {
     "data": {
      "text/plain": [
       "0.8360655737704918"
      ]
     },
     "execution_count": 17,
     "metadata": {},
     "output_type": "execute_result"
    }
   ],
   "source": [
    "# Perform .score on test set:\n",
    "model.score(X_test, Y_test)"
   ]
  },
  {
   "cell_type": "markdown",
   "id": "04fc6d89",
   "metadata": {},
   "source": [
    "### 4.2: Using **Scoring** parameters:"
   ]
  },
  {
   "cell_type": "markdown",
   "id": "c52d2d12",
   "metadata": {},
   "source": [
    "#### a) Cross-Validation Accuracy:"
   ]
  },
  {
   "cell_type": "code",
   "execution_count": 18,
   "id": "942cfdd4",
   "metadata": {},
   "outputs": [
    {
     "name": "stdout",
     "output_type": "stream",
     "text": [
      "CV Accuracy for Uncalibrated Model = 0.8315300546448088\n",
      "CV Accuracy for Calibrated Model = 0.8249726775956285\n"
     ]
    }
   ],
   "source": [
    "from sklearn.model_selection import cross_val_score\n",
    "# 5-fold Cross-val score: \n",
    "cv_score_array = cross_val_score(model, X, Y, cv=5)\n",
    "print(\"CV Accuracy for Uncalibrated Model = \" + str (np.mean(cv_score_array)))\n",
    "cv_score_array = cross_val_score(cal_model, X, Y, cv=5)\n",
    "print(\"CV Accuracy for Calibrated Model = \" + str (np.mean(cv_score_array)))"
   ]
  },
  {
   "cell_type": "markdown",
   "id": "4de5f34d",
   "metadata": {},
   "source": [
    "#### b) Area Under the Curve (AUC/ROC):\n",
    "- `predict_proba()` is used for this metric"
   ]
  },
  {
   "cell_type": "code",
   "execution_count": 19,
   "id": "55ab6faf",
   "metadata": {
    "scrolled": true
   },
   "outputs": [],
   "source": [
    "# Finding Prediction Probability:\n",
    "Y_probs_pred = model.predict_proba(X_test)\n",
    "Y_prob_cal_pred = cal_model.predict_proba(X_test)"
   ]
  },
  {
   "cell_type": "code",
   "execution_count": 20,
   "id": "86c1cde4",
   "metadata": {},
   "outputs": [],
   "source": [
    "# Left column represents probability of prediction being *False* while right column represents probability of prediction being *True*\n",
    "Y_positive = Y_probs_pred[:,1]\n",
    "\n",
    "Y_positive_cal = Y_prob_cal_pred[:,1]"
   ]
  },
  {
   "cell_type": "markdown",
   "id": "b23e90d6",
   "metadata": {},
   "source": [
    "##### Calculating FPR, TPR,and Thresholds:"
   ]
  },
  {
   "cell_type": "code",
   "execution_count": 21,
   "id": "6cd1295f",
   "metadata": {
    "scrolled": true
   },
   "outputs": [],
   "source": [
    "# Importing roc_curve:\n",
    "from sklearn.metrics import roc_curve\n",
    "fpr,tpr,thresholds = roc_curve(Y_test,Y_positive)\n",
    "\n",
    "fpr_cal,tpr_cal,thresholds_cal = roc_curve(Y_test,Y_positive_cal)"
   ]
  },
  {
   "cell_type": "markdown",
   "id": "5d3ee2ba",
   "metadata": {},
   "source": [
    "##### Plotting function"
   ]
  },
  {
   "cell_type": "code",
   "execution_count": 22,
   "id": "e1e79791",
   "metadata": {},
   "outputs": [],
   "source": [
    "import matplotlib.pyplot as plt\n",
    "def plot_roc_curve(fpr,tpr,fpr_cal,tpr_cal):\n",
    "    \"\"\" Plots ROC Curve given False Positive Right (FPR) & True Positive Right (TPR)\"\"\"\n",
    "    \n",
    "    # Plot Uncalibrated ROC Curve:\n",
    "    plt.plot(fpr, tpr, color = \"orange\", label = \"ROC\")\n",
    "    \n",
    "    # Plot Calibrated ROC Curve:\n",
    "    plt.plot(fpr_cal, tpr_cal, color = \"m\", label = \"ROC\")\n",
    "    \n",
    "    #Plot baseline:\n",
    "    plt.plot([0,1],[0,1], color = \"darkblue\", linestyle = \"--\", label = \"Guessing\")\n",
    "    \n",
    "    # Customizing Plot:\n",
    "    plt.xlabel = \"FPR\"\n",
    "    plt.ylabel = \"TPR\"\n",
    "    plt.title = \"ROC Curve\"\n",
    "    plt.legend()\n",
    "    plt.show()\n",
    "\n",
    "    "
   ]
  },
  {
   "cell_type": "code",
   "execution_count": 23,
   "id": "4fe766d3",
   "metadata": {
    "scrolled": false
   },
   "outputs": [
    {
     "data": {
      "image/png": "[encoded data removed]",
      "text/plain": [
       "<Figure size 432x288 with 1 Axes>"
      ]
     },
     "metadata": {
      "needs_background": "light"
     },
     "output_type": "display_data"
    }
   ],
   "source": [
    "plot_roc_curve(fpr,tpr,fpr_cal,tpr_cal)"
   ]
  },
  {
   "cell_type": "markdown",
   "id": "b5ecbc31",
   "metadata": {},
   "source": [
    "- ROC Scores"
   ]
  },
  {
   "cell_type": "code",
   "execution_count": 24,
   "id": "35ddc5b7",
   "metadata": {},
   "outputs": [
    {
     "name": "stdout",
     "output_type": "stream",
     "text": [
      "ROC for uncalibrated Model: 0.9299568965517241\n",
      "ROC for calibrated Model: 0.9202586206896552\n"
     ]
    }
   ],
   "source": [
    "from sklearn.metrics import roc_auc_score\n",
    "print(\"ROC for uncalibrated Model: \" + str(roc_auc_score(Y_test,Y_positive)))\n",
    "print(\"ROC for calibrated Model: \" + str(roc_auc_score(Y_test,Y_positive_cal)))"
   ]
  },
  {
   "cell_type": "markdown",
   "id": "22f1f771",
   "metadata": {},
   "source": [
    "##### Confusion Matrix:\n",
    "- Also known as an **Error Matrix**.\n",
    "- Quick way to compare a model's **predicted labels** with the **actual labels** it was supposed to predict.\n",
    "- Not strictly used for **binary classification** problems.\n",
    "- Gives you an idea where the model gets confused."
   ]
  },
  {
   "cell_type": "markdown",
   "id": "def93f83",
   "metadata": {},
   "source": [
    "##### Visualizing Confusion Matrix using `sklearn.ConfusionMatrixDisplay`:\n",
    "1. From Estimator (includes training & validation sets).\n",
    "2. From Predictions (only includes test set)."
   ]
  },
  {
   "cell_type": "code",
   "execution_count": 25,
   "id": "c18df4bf",
   "metadata": {},
   "outputs": [],
   "source": [
    "from sklearn.metrics import ConfusionMatrixDisplay"
   ]
  },
  {
   "cell_type": "code",
   "execution_count": 26,
   "id": "69bc03b3",
   "metadata": {},
   "outputs": [
    {
     "data": {
      "text/plain": [
       "<sklearn.metrics._plot.confusion_matrix.ConfusionMatrixDisplay at 0x29a042fde80>"
      ]
     },
     "execution_count": 26,
     "metadata": {},
     "output_type": "execute_result"
    },
    {
     "data": {
      "image/png": "[encoded data removed]",
      "text/plain": [
       "<Figure size 432x288 with 2 Axes>"
      ]
     },
     "metadata": {
      "needs_background": "light"
     },
     "output_type": "display_data"
    }
   ],
   "source": [
    "# Using from_predictions - Uncalibrated Model:\n",
    "ConfusionMatrixDisplay.from_estimator(estimator = model, X= X, y=Y)"
   ]
  },
  {
   "cell_type": "code",
   "execution_count": 27,
   "id": "a94d1056",
   "metadata": {
    "scrolled": true
   },
   "outputs": [
    {
     "data": {
      "text/plain": [
       "<sklearn.metrics._plot.confusion_matrix.ConfusionMatrixDisplay at 0x29a042fd520>"
      ]
     },
     "execution_count": 27,
     "metadata": {},
     "output_type": "execute_result"
    },
    {
     "data": {
      "image/png": "[encoded data removed]",
      "text/plain": [
       "<Figure size 432x288 with 2 Axes>"
      ]
     },
     "metadata": {
      "needs_background": "light"
     },
     "output_type": "display_data"
    }
   ],
   "source": [
    "# Using from_predictions - Calibrated Model:\n",
    "ConfusionMatrixDisplay.from_estimator(estimator = cal_model, X= X, y=Y)"
   ]
  },
  {
   "cell_type": "code",
   "execution_count": 28,
   "id": "26d2f15a",
   "metadata": {},
   "outputs": [
    {
     "data": {
      "text/plain": [
       "<sklearn.metrics._plot.confusion_matrix.ConfusionMatrixDisplay at 0x29a072ba640>"
      ]
     },
     "execution_count": 28,
     "metadata": {},
     "output_type": "execute_result"
    },
    {
     "data": {
      "image/png": "[encoded data removed]",
      "text/plain": [
       "<Figure size 432x288 with 2 Axes>"
      ]
     },
     "metadata": {
      "needs_background": "light"
     },
     "output_type": "display_data"
    }
   ],
   "source": [
    "# Using from_predictions - Uncalibrated Model:\n",
    "ConfusionMatrixDisplay.from_predictions(y_true = Y_test, y_pred = Y_pred)"
   ]
  },
  {
   "cell_type": "code",
   "execution_count": 29,
   "id": "94cf30ac",
   "metadata": {},
   "outputs": [
    {
     "data": {
      "text/plain": [
       "<sklearn.metrics._plot.confusion_matrix.ConfusionMatrixDisplay at 0x29a074097c0>"
      ]
     },
     "execution_count": 29,
     "metadata": {},
     "output_type": "execute_result"
    },
    {
     "data": {
      "image/png": "[encoded data removed]",
      "text/plain": [
       "<Figure size 432x288 with 2 Axes>"
      ]
     },
     "metadata": {
      "needs_background": "light"
     },
     "output_type": "display_data"
    }
   ],
   "source": [
    "# Using from_predictions - Calibrated Model:\n",
    "ConfusionMatrixDisplay.from_predictions(y_true = Y_test, y_pred = Y_cal_pred)"
   ]
  },
  {
   "cell_type": "markdown",
   "id": "02143f26",
   "metadata": {},
   "source": [
    "### Classification Report:"
   ]
  },
  {
   "cell_type": "markdown",
   "id": "29bc0f2e",
   "metadata": {},
   "source": [
    "#### For Uncalibrated Model:"
   ]
  },
  {
   "cell_type": "code",
   "execution_count": 30,
   "id": "8c24afda",
   "metadata": {},
   "outputs": [
    {
     "name": "stdout",
     "output_type": "stream",
     "text": [
      "              precision    recall  f1-score   support\n",
      "\n",
      "           0       0.83      0.83      0.83        29\n",
      "           1       0.84      0.84      0.84        32\n",
      "\n",
      "    accuracy                           0.84        61\n",
      "   macro avg       0.84      0.84      0.84        61\n",
      "weighted avg       0.84      0.84      0.84        61\n",
      "\n"
     ]
    }
   ],
   "source": [
    "from sklearn.metrics import classification_report\n",
    "print (classification_report(Y_test,Y_pred))\n"
   ]
  },
  {
   "cell_type": "markdown",
   "id": "86f8d934",
   "metadata": {},
   "source": [
    "#### For Calibrated Model:"
   ]
  },
  {
   "cell_type": "code",
   "execution_count": 31,
   "id": "ef2bcca1",
   "metadata": {},
   "outputs": [
    {
     "name": "stdout",
     "output_type": "stream",
     "text": [
      "              precision    recall  f1-score   support\n",
      "\n",
      "           0       0.83      0.86      0.85        29\n",
      "           1       0.87      0.84      0.86        32\n",
      "\n",
      "    accuracy                           0.85        61\n",
      "   macro avg       0.85      0.85      0.85        61\n",
      "weighted avg       0.85      0.85      0.85        61\n",
      "\n"
     ]
    }
   ],
   "source": [
    "from sklearn.metrics import classification_report\n",
    "print (classification_report(Y_test,Y_cal_pred))"
   ]
  },
  {
   "cell_type": "markdown",
   "id": "81a8731c",
   "metadata": {},
   "source": [
    "## Step 5: Improving Model\n"
   ]
  },
  {
   "cell_type": "code",
   "execution_count": 32,
   "id": "2e147e78",
   "metadata": {},
   "outputs": [
    {
     "name": "stdout",
     "output_type": "stream",
     "text": [
      "Trying model with 10 estimators...\n",
      "Model accruacy on test set: 0.8360655737704918\n",
      "Cross-validation score: 79.20218579234972%\n",
      "\n",
      "Trying model with 20 estimators...\n",
      "Model accruacy on test set: 0.8688524590163934\n",
      "Cross-validation score: 82.15300546448088%\n",
      "\n",
      "Trying model with 30 estimators...\n",
      "Model accruacy on test set: 0.9016393442622951\n",
      "Cross-validation score: 80.83606557377048%\n",
      "\n",
      "Trying model with 40 estimators...\n",
      "Model accruacy on test set: 0.819672131147541\n",
      "Cross-validation score: 80.83060109289617%\n",
      "\n",
      "Trying model with 50 estimators...\n",
      "Model accruacy on test set: 0.8524590163934426\n",
      "Cross-validation score: 83.47540983606557%\n",
      "\n",
      "Trying model with 60 estimators...\n",
      "Model accruacy on test set: 0.8360655737704918\n",
      "Cross-validation score: 81.49726775956283%\n",
      "\n",
      "Trying model with 70 estimators...\n",
      "Model accruacy on test set: 0.8524590163934426\n",
      "Cross-validation score: 80.5191256830601%\n",
      "\n",
      "Trying model with 80 estimators...\n",
      "Model accruacy on test set: 0.8688524590163934\n",
      "Cross-validation score: 83.15300546448088%\n",
      "\n",
      "Trying model with 90 estimators...\n",
      "Model accruacy on test set: 0.8688524590163934\n",
      "Cross-validation score: 81.48087431693989%\n",
      "\n"
     ]
    }
   ],
   "source": [
    "# Try different numbers of estimators with cross-validation and no cross-validation\n",
    "\n",
    "from sklearn.model_selection import cross_val_score\n",
    "\n",
    "for i in range(10, 100, 10):\n",
    "    print(f\"Trying model with {i} estimators...\")\n",
    "    model = RandomForestClassifier(n_estimators=i).fit(X_train, Y_train)\n",
    "    print(f\"Model accruacy on test set: {model.score(X_test, Y_test)}\")\n",
    "    print(f\"Cross-validation score: {np.mean(cross_val_score(model, X, Y, cv=5)) * 100}%\")\n",
    "    print(\"\")"
   ]
  },
  {
   "cell_type": "markdown",
   "id": "45a5bac9",
   "metadata": {},
   "source": [
    "## Step 6: Saving Trained Model"
   ]
  },
  {
   "cell_type": "code",
   "execution_count": null,
   "id": "7d5c29cc",
   "metadata": {},
   "outputs": [],
   "source": [
    "import pickle\n",
    "\n",
    "# Save trained model to file\n",
    "pickle.dump(model, open(\"random_forest_model_1.pkl\", \"wb\"))"
   ]
  }
 ],
 "metadata": {
  "kernelspec": {
   "display_name": "Python 3 (ipykernel)",
   "language": "python",
   "name": "python3"
  },
  "language_info": {
   "codemirror_mode": {
    "name": "ipython",
    "version": 3
   },
   "file_extension": ".py",
   "mimetype": "text/x-python",
   "name": "python",
   "nbconvert_exporter": "python",
   "pygments_lexer": "ipython3",
   "version": "3.9.8"
  }
 },
 "nbformat": 4,
 "nbformat_minor": 5
}
