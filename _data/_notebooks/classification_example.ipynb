{
 "cells": [
  {
   "cell_type": "code",
   "execution_count": 1,
   "id": "5f32b187",
   "metadata": {},
   "outputs": [],
   "source": [
    "import pandas as pd\n",
    "import numpy as np\n",
    "from random import randint"
   ]
  },
  {
   "cell_type": "markdown",
   "id": "300eaac1",
   "metadata": {},
   "source": [
    "## Step 1: Getting Data Ready"
   ]
  },
  {
   "cell_type": "code",
   "execution_count": 2,
   "id": "10546412",
   "metadata": {},
   "outputs": [],
   "source": [
    "# Storing dataset into a Pandas DataFrame\n",
    "heart_disease_df = pd.read_csv(\"datasets/heart-disease.csv\")"
   ]
  },
  {
   "cell_type": "code",
   "execution_count": 3,
   "id": "e4c9a053",
   "metadata": {},
   "outputs": [
    {
     "data": {
      "text/html": [
       "<div>\n",
       "<style scoped>\n",
       "    .dataframe tbody tr th:only-of-type {\n",
       "        vertical-align: middle;\n",
       "    }\n",
       "\n",
       "    .dataframe tbody tr th {\n",
       "        vertical-align: top;\n",
       "    }\n",
       "\n",
       "    .dataframe thead th {\n",
       "        text-align: right;\n",
       "    }\n",
       "</style>\n",
       "<table border=\"1\" class=\"dataframe\">\n",
       "  <thead>\n",
       "    <tr style=\"text-align: right;\">\n",
       "      <th></th>\n",
       "      <th>age</th>\n",
       "      <th>sex</th>\n",
       "      <th>cp</th>\n",
       "      <th>trestbps</th>\n",
       "      <th>chol</th>\n",
       "      <th>fbs</th>\n",
       "      <th>restecg</th>\n",
       "      <th>thalach</th>\n",
       "      <th>exang</th>\n",
       "      <th>oldpeak</th>\n",
       "      <th>slope</th>\n",
       "      <th>ca</th>\n",
       "      <th>thal</th>\n",
       "      <th>target</th>\n",
       "    </tr>\n",
       "  </thead>\n",
       "  <tbody>\n",
       "    <tr>\n",
       "      <th>0</th>\n",
       "      <td>63</td>\n",
       "      <td>1</td>\n",
       "      <td>3</td>\n",
       "      <td>145</td>\n",
       "      <td>233</td>\n",
       "      <td>1</td>\n",
       "      <td>0</td>\n",
       "      <td>150</td>\n",
       "      <td>0</td>\n",
       "      <td>2.3</td>\n",
       "      <td>0</td>\n",
       "      <td>0</td>\n",
       "      <td>1</td>\n",
       "      <td>1</td>\n",
       "    </tr>\n",
       "    <tr>\n",
       "      <th>1</th>\n",
       "      <td>37</td>\n",
       "      <td>1</td>\n",
       "      <td>2</td>\n",
       "      <td>130</td>\n",
       "      <td>250</td>\n",
       "      <td>0</td>\n",
       "      <td>1</td>\n",
       "      <td>187</td>\n",
       "      <td>0</td>\n",
       "      <td>3.5</td>\n",
       "      <td>0</td>\n",
       "      <td>0</td>\n",
       "      <td>2</td>\n",
       "      <td>1</td>\n",
       "    </tr>\n",
       "    <tr>\n",
       "      <th>2</th>\n",
       "      <td>41</td>\n",
       "      <td>0</td>\n",
       "      <td>1</td>\n",
       "      <td>130</td>\n",
       "      <td>204</td>\n",
       "      <td>0</td>\n",
       "      <td>0</td>\n",
       "      <td>172</td>\n",
       "      <td>0</td>\n",
       "      <td>1.4</td>\n",
       "      <td>2</td>\n",
       "      <td>0</td>\n",
       "      <td>2</td>\n",
       "      <td>1</td>\n",
       "    </tr>\n",
       "    <tr>\n",
       "      <th>3</th>\n",
       "      <td>56</td>\n",
       "      <td>1</td>\n",
       "      <td>1</td>\n",
       "      <td>120</td>\n",
       "      <td>236</td>\n",
       "      <td>0</td>\n",
       "      <td>1</td>\n",
       "      <td>178</td>\n",
       "      <td>0</td>\n",
       "      <td>0.8</td>\n",
       "      <td>2</td>\n",
       "      <td>0</td>\n",
       "      <td>2</td>\n",
       "      <td>1</td>\n",
       "    </tr>\n",
       "    <tr>\n",
       "      <th>4</th>\n",
       "      <td>57</td>\n",
       "      <td>0</td>\n",
       "      <td>0</td>\n",
       "      <td>120</td>\n",
       "      <td>354</td>\n",
       "      <td>0</td>\n",
       "      <td>1</td>\n",
       "      <td>163</td>\n",
       "      <td>1</td>\n",
       "      <td>0.6</td>\n",
       "      <td>2</td>\n",
       "      <td>0</td>\n",
       "      <td>2</td>\n",
       "      <td>1</td>\n",
       "    </tr>\n",
       "  </tbody>\n",
       "</table>\n",
       "</div>"
      ],
      "text/plain": [
       "   age  sex  cp  trestbps  chol  fbs  restecg  thalach  exang  oldpeak  slope  \\\n",
       "0   63    1   3       145   233    1        0      150      0      2.3      0   \n",
       "1   37    1   2       130   250    0        1      187      0      3.5      0   \n",
       "2   41    0   1       130   204    0        0      172      0      1.4      2   \n",
       "3   56    1   1       120   236    0        1      178      0      0.8      2   \n",
       "4   57    0   0       120   354    0        1      163      1      0.6      2   \n",
       "\n",
       "   ca  thal  target  \n",
       "0   0     1       1  \n",
       "1   0     2       1  \n",
       "2   0     2       1  \n",
       "3   0     2       1  \n",
       "4   0     2       1  "
      ]
     },
     "execution_count": 3,
     "metadata": {},
     "output_type": "execute_result"
    }
   ],
   "source": [
    "# Printing head of DataFrame to make sure the data has been loaded correctly\n",
    "heart_disease_df.head()"
   ]
  },
  {
   "cell_type": "code",
   "execution_count": 4,
   "id": "d5384dad",
   "metadata": {},
   "outputs": [],
   "source": [
    "# Using Random seed to make results reproducible:\n",
    "np.random.seed(42)\n",
    "# Creating X & Y, where:\n",
    "# X: Feature columns in DataFrame (whatever is needed for predicting)\n",
    "# Y: Column to be predicted\n",
    "X = heart_disease_df.drop('target',axis = 1)\n",
    "Y = heart_disease_df['target']"
   ]
  },
  {
   "cell_type": "code",
   "execution_count": 5,
   "id": "ac4c12f8",
   "metadata": {},
   "outputs": [],
   "source": [
    "# Splitting dataset into test & train sets using train_test_split method:\n",
    "from sklearn.model_selection import train_test_split\n",
    "X_train,X_test,Y_train,Y_test = train_test_split(X,Y)"
   ]
  },
  {
   "cell_type": "code",
   "execution_count": 6,
   "id": "01895bdc",
   "metadata": {},
   "outputs": [
    {
     "data": {
      "text/plain": [
       "((227, 13), (227,), (76, 13), (76,))"
      ]
     },
     "execution_count": 6,
     "metadata": {},
     "output_type": "execute_result"
    }
   ],
   "source": [
    "# Looking at shapes to ensure that the dataset was split properly:\n",
    "X_train.shape,Y_train.shape,X_test.shape,Y_test.shape"
   ]
  },
  {
   "cell_type": "code",
   "execution_count": 7,
   "id": "835e14c2",
   "metadata": {},
   "outputs": [
    {
     "name": "stdout",
     "output_type": "stream",
     "text": [
      "Int64Index([179, 228, 111, 246,  60,   9, 119, 223, 268,  33,   5, 101,  45,\n",
      "            175, 118,  46, 125, 192, 285, 279, 152, 269, 272,  25, 146, 283,\n",
      "            254,  73, 231, 109, 139, 284, 198,  42,  17, 168,  76,  90,  24,\n",
      "             57,  92,  77, 137, 116,   7, 251, 281,  78, 292, 232, 219, 255,\n",
      "             63,  82, 236, 204, 249, 104, 300, 193, 184, 132, 202, 196,  75,\n",
      "            176,  59,  93,   6, 177,  30,  22, 258,  56, 242, 114],\n",
      "           dtype='int64')\n"
     ]
    }
   ],
   "source": [
    "# Looking at labels in X_test set:\n",
    "print (X_test.index)"
   ]
  },
  {
   "cell_type": "markdown",
   "id": "b90827db",
   "metadata": {},
   "source": [
    "## Step 2: Choosing the Model\n",
    "Done by following the Model Selection Map. In this example, it's a Classification problem.\n",
    "<br>This step involves trying different models.\n",
    "<br>RandomForestClassifier from sklearn.ensemble is used."
   ]
  },
  {
   "cell_type": "code",
   "execution_count": 8,
   "id": "9558d14a",
   "metadata": {},
   "outputs": [],
   "source": [
    "from sklearn.ensemble import RandomForestClassifier\n",
    "model = RandomForestClassifier()"
   ]
  },
  {
   "cell_type": "markdown",
   "id": "8686d4fd",
   "metadata": {},
   "source": [
    "## Step 3: Fitting Model to Data & Making Predictions"
   ]
  },
  {
   "cell_type": "code",
   "execution_count": 9,
   "id": "67aa0e5b",
   "metadata": {},
   "outputs": [
    {
     "data": {
      "text/html": [
       "<style>#sk-container-id-1 {color: black;background-color: white;}#sk-container-id-1 pre{padding: 0;}#sk-container-id-1 div.sk-toggleable {background-color: white;}#sk-container-id-1 label.sk-toggleable__label {cursor: pointer;display: block;width: 100%;margin-bottom: 0;padding: 0.3em;box-sizing: border-box;text-align: center;}#sk-container-id-1 label.sk-toggleable__label-arrow:before {content: \"▸\";float: left;margin-right: 0.25em;color: #696969;}#sk-container-id-1 label.sk-toggleable__label-arrow:hover:before {color: black;}#sk-container-id-1 div.sk-estimator:hover label.sk-toggleable__label-arrow:before {color: black;}#sk-container-id-1 div.sk-toggleable__content {max-height: 0;max-width: 0;overflow: hidden;text-align: left;background-color: #f0f8ff;}#sk-container-id-1 div.sk-toggleable__content pre {margin: 0.2em;color: black;border-radius: 0.25em;background-color: #f0f8ff;}#sk-container-id-1 input.sk-toggleable__control:checked~div.sk-toggleable__content {max-height: 200px;max-width: 100%;overflow: auto;}#sk-container-id-1 input.sk-toggleable__control:checked~label.sk-toggleable__label-arrow:before {content: \"▾\";}#sk-container-id-1 div.sk-estimator input.sk-toggleable__control:checked~label.sk-toggleable__label {background-color: #d4ebff;}#sk-container-id-1 div.sk-label input.sk-toggleable__control:checked~label.sk-toggleable__label {background-color: #d4ebff;}#sk-container-id-1 input.sk-hidden--visually {border: 0;clip: rect(1px 1px 1px 1px);clip: rect(1px, 1px, 1px, 1px);height: 1px;margin: -1px;overflow: hidden;padding: 0;position: absolute;width: 1px;}#sk-container-id-1 div.sk-estimator {font-family: monospace;background-color: #f0f8ff;border: 1px dotted black;border-radius: 0.25em;box-sizing: border-box;margin-bottom: 0.5em;}#sk-container-id-1 div.sk-estimator:hover {background-color: #d4ebff;}#sk-container-id-1 div.sk-parallel-item::after {content: \"\";width: 100%;border-bottom: 1px solid gray;flex-grow: 1;}#sk-container-id-1 div.sk-label:hover label.sk-toggleable__label {background-color: #d4ebff;}#sk-container-id-1 div.sk-serial::before {content: \"\";position: absolute;border-left: 1px solid gray;box-sizing: border-box;top: 0;bottom: 0;left: 50%;z-index: 0;}#sk-container-id-1 div.sk-serial {display: flex;flex-direction: column;align-items: center;background-color: white;padding-right: 0.2em;padding-left: 0.2em;position: relative;}#sk-container-id-1 div.sk-item {position: relative;z-index: 1;}#sk-container-id-1 div.sk-parallel {display: flex;align-items: stretch;justify-content: center;background-color: white;position: relative;}#sk-container-id-1 div.sk-item::before, #sk-container-id-1 div.sk-parallel-item::before {content: \"\";position: absolute;border-left: 1px solid gray;box-sizing: border-box;top: 0;bottom: 0;left: 50%;z-index: -1;}#sk-container-id-1 div.sk-parallel-item {display: flex;flex-direction: column;z-index: 1;position: relative;background-color: white;}#sk-container-id-1 div.sk-parallel-item:first-child::after {align-self: flex-end;width: 50%;}#sk-container-id-1 div.sk-parallel-item:last-child::after {align-self: flex-start;width: 50%;}#sk-container-id-1 div.sk-parallel-item:only-child::after {width: 0;}#sk-container-id-1 div.sk-dashed-wrapped {border: 1px dashed gray;margin: 0 0.4em 0.5em 0.4em;box-sizing: border-box;padding-bottom: 0.4em;background-color: white;}#sk-container-id-1 div.sk-label label {font-family: monospace;font-weight: bold;display: inline-block;line-height: 1.2em;}#sk-container-id-1 div.sk-label-container {text-align: center;}#sk-container-id-1 div.sk-container {/* jupyter's `normalize.less` sets `[hidden] { display: none; }` but bootstrap.min.css set `[hidden] { display: none !important; }` so we also need the `!important` here to be able to override the default hidden behavior on the sphinx rendered scikit-learn.org. See: https://github.com/scikit-learn/scikit-learn/issues/21755 */display: inline-block !important;position: relative;}#sk-container-id-1 div.sk-text-repr-fallback {display: none;}</style><div id=\"sk-container-id-1\" class=\"sk-top-container\"><div class=\"sk-text-repr-fallback\"><pre>RandomForestClassifier()</pre><b>In a Jupyter environment, please rerun this cell to show the HTML representation or trust the notebook. <br />On GitHub, the HTML representation is unable to render, please try loading this page with nbviewer.org.</b></div><div class=\"sk-container\" hidden><div class=\"sk-item\"><div class=\"sk-estimator sk-toggleable\"><input class=\"sk-toggleable__control sk-hidden--visually\" id=\"sk-estimator-id-1\" type=\"checkbox\" checked><label for=\"sk-estimator-id-1\" class=\"sk-toggleable__label sk-toggleable__label-arrow\">RandomForestClassifier</label><div class=\"sk-toggleable__content\"><pre>RandomForestClassifier()</pre></div></div></div></div></div>"
      ],
      "text/plain": [
       "RandomForestClassifier()"
      ]
     },
     "execution_count": 9,
     "metadata": {},
     "output_type": "execute_result"
    }
   ],
   "source": [
    "# Fitting data to model using fit () method on train sets\n",
    "model.fit(X_train, Y_train)"
   ]
  },
  {
   "cell_type": "code",
   "execution_count": 10,
   "id": "984cf4f0",
   "metadata": {},
   "outputs": [
    {
     "data": {
      "text/plain": [
       "array([0, 1, 0, 0, 1, 1, 1, 0, 0, 0, 1, 0, 1, 0, 1, 1, 1, 0, 0, 0, 1, 0,\n",
       "       1, 1, 1, 1, 1, 1, 0, 1, 0, 0, 0, 0, 1, 0, 1, 1, 1, 1, 1, 1, 1, 1,\n",
       "       1, 0, 1, 1, 0, 0, 0, 0, 1, 1, 0, 0, 0, 1, 0, 0, 0, 1, 0, 0, 1, 0,\n",
       "       0, 1, 1, 1, 1, 1, 1, 1, 0, 1], dtype=int64)"
      ]
     },
     "execution_count": 10,
     "metadata": {},
     "output_type": "execute_result"
    }
   ],
   "source": [
    "# Making predictions using predict() method:\n",
    "Y_pred = model.predict(X_test)\n",
    "Y_pred"
   ]
  },
  {
   "cell_type": "code",
   "execution_count": 11,
   "id": "93a0176c",
   "metadata": {},
   "outputs": [
    {
     "data": {
      "text/plain": [
       "array([[0.91, 0.09],\n",
       "       [0.45, 0.55],\n",
       "       [0.51, 0.49],\n",
       "       [0.85, 0.15],\n",
       "       [0.25, 0.75],\n",
       "       [0.05, 0.95],\n",
       "       [0.25, 0.75],\n",
       "       [0.97, 0.03],\n",
       "       [0.98, 0.02],\n",
       "       [0.52, 0.48]])"
      ]
     },
     "execution_count": 11,
     "metadata": {},
     "output_type": "execute_result"
    }
   ],
   "source": [
    "# Making predictions using predict_proba() method:\n",
    "Y_prob_pred = model.predict_proba(X_test)\n",
    "Y_prob_pred[:10]"
   ]
  },
  {
   "cell_type": "code",
   "execution_count": 12,
   "id": "c5a02b41",
   "metadata": {},
   "outputs": [],
   "source": [
    "# Getting a random index from the X_test set\n",
    "random_index = X_test.index[randint(0,X_test.shape[0])]"
   ]
  },
  {
   "cell_type": "code",
   "execution_count": 13,
   "id": "467d43ea",
   "metadata": {},
   "outputs": [
    {
     "name": "stderr",
     "output_type": "stream",
     "text": [
      "D:\\Projects\\ML\\lib\\site-packages\\sklearn\\base.py:450: UserWarning: X does not have valid feature names, but RandomForestClassifier was fitted with feature names\n",
      "  warnings.warn(\n"
     ]
    },
    {
     "data": {
      "text/plain": [
       "array([0], dtype=int64)"
      ]
     },
     "execution_count": 13,
     "metadata": {},
     "output_type": "execute_result"
    }
   ],
   "source": [
    "# Making a prediction on a single sample (has to be array)\n",
    "X_test.loc[random_index]\n",
    "model.predict(np.array(X_test.loc[random_index]).reshape(1, -1))\n",
    "# (-1) makes NumPy figure out how many columns this array has"
   ]
  },
  {
   "cell_type": "code",
   "execution_count": 14,
   "id": "7b0163e0",
   "metadata": {},
   "outputs": [
    {
     "data": {
      "text/plain": [
       "age          58.0\n",
       "sex           1.0\n",
       "cp            0.0\n",
       "trestbps    125.0\n",
       "chol        300.0\n",
       "fbs           0.0\n",
       "restecg       0.0\n",
       "thalach     171.0\n",
       "exang         0.0\n",
       "oldpeak       0.0\n",
       "slope         2.0\n",
       "ca            2.0\n",
       "thal          3.0\n",
       "Name: 236, dtype: float64"
      ]
     },
     "execution_count": 14,
     "metadata": {},
     "output_type": "execute_result"
    }
   ],
   "source": [
    "# Printing the random element from X_test DF\n",
    "X_test.loc[random_index]"
   ]
  },
  {
   "cell_type": "code",
   "execution_count": 15,
   "id": "60226610",
   "metadata": {},
   "outputs": [
    {
     "data": {
      "text/plain": [
       "0"
      ]
     },
     "execution_count": 15,
     "metadata": {},
     "output_type": "execute_result"
    }
   ],
   "source": [
    "# Printing the random element from Y_test Series\n",
    "Y_test.loc[random_index]"
   ]
  },
  {
   "cell_type": "code",
   "execution_count": 16,
   "id": "e8259f86",
   "metadata": {},
   "outputs": [
    {
     "name": "stdout",
     "output_type": "stream",
     "text": [
      "age          58.0\n",
      "sex           1.0\n",
      "cp            0.0\n",
      "trestbps    125.0\n",
      "chol        300.0\n",
      "fbs           0.0\n",
      "restecg       0.0\n",
      "thalach     171.0\n",
      "exang         0.0\n",
      "oldpeak       0.0\n",
      "slope         2.0\n",
      "ca            2.0\n",
      "thal          3.0\n",
      "target        0.0\n",
      "Name: 236, dtype: float64\n"
     ]
    }
   ],
   "source": [
    "# Printing the random element from heart_disease_df\n",
    "print(heart_disease_df.loc[random_index])"
   ]
  },
  {
   "cell_type": "markdown",
   "id": "b5345a52",
   "metadata": {},
   "source": [
    "## Step 4: Evaluating Model"
   ]
  },
  {
   "cell_type": "markdown",
   "id": "8d00f7a9",
   "metadata": {},
   "source": [
    "### 4.1: Using `score()` method:"
   ]
  },
  {
   "cell_type": "code",
   "execution_count": 17,
   "id": "58f9316e",
   "metadata": {},
   "outputs": [
    {
     "data": {
      "text/plain": [
       "1.0"
      ]
     },
     "execution_count": 17,
     "metadata": {},
     "output_type": "execute_result"
    }
   ],
   "source": [
    "# Perform .score on train set first:\n",
    "model.score(X_train, Y_train)"
   ]
  },
  {
   "cell_type": "code",
   "execution_count": 18,
   "id": "c3f07dfe",
   "metadata": {},
   "outputs": [
    {
     "data": {
      "text/plain": [
       "0.8289473684210527"
      ]
     },
     "execution_count": 18,
     "metadata": {},
     "output_type": "execute_result"
    }
   ],
   "source": [
    "# Perform .score on test set:\n",
    "model.score(X_test, Y_test)"
   ]
  },
  {
   "cell_type": "markdown",
   "id": "04fc6d89",
   "metadata": {},
   "source": [
    "### 4.2: Using **Scoring** parameters:"
   ]
  },
  {
   "cell_type": "markdown",
   "id": "c52d2d12",
   "metadata": {},
   "source": [
    "#### a) Cross-Validation Accuracy:"
   ]
  },
  {
   "cell_type": "code",
   "execution_count": 19,
   "id": "942cfdd4",
   "metadata": {},
   "outputs": [
    {
     "data": {
      "text/plain": [
       "0.811639344262295"
      ]
     },
     "execution_count": 19,
     "metadata": {},
     "output_type": "execute_result"
    }
   ],
   "source": [
    "from sklearn.model_selection import cross_val_score\n",
    "# 5-fold Cross-val score: \n",
    "cross_val_score_array = cross_val_score(model, X, Y, cv=5)\n",
    "np.mean(cross_val_score_array)"
   ]
  },
  {
   "cell_type": "markdown",
   "id": "4de5f34d",
   "metadata": {},
   "source": [
    "#### b) Area Under the Curve (AUC/ROC):\n",
    "- `predict_proba()` is used for this metric"
   ]
  },
  {
   "cell_type": "code",
   "execution_count": 20,
   "id": "55ab6faf",
   "metadata": {
    "scrolled": true
   },
   "outputs": [
    {
     "data": {
      "text/plain": [
       "array([[0.91, 0.09],\n",
       "       [0.45, 0.55],\n",
       "       [0.51, 0.49],\n",
       "       [0.85, 0.15],\n",
       "       [0.25, 0.75],\n",
       "       [0.05, 0.95],\n",
       "       [0.25, 0.75],\n",
       "       [0.97, 0.03],\n",
       "       [0.98, 0.02],\n",
       "       [0.52, 0.48]])"
      ]
     },
     "execution_count": 20,
     "metadata": {},
     "output_type": "execute_result"
    }
   ],
   "source": [
    "# Finding Prediction Probability:\n",
    "Y_probs_pred = model.predict_proba(X_test)\n",
    "\n",
    "# Printing first 10 Probabilities:\n",
    "Y_probs_pred[:10]\n"
   ]
  },
  {
   "cell_type": "code",
   "execution_count": 21,
   "id": "86c1cde4",
   "metadata": {},
   "outputs": [
    {
     "data": {
      "text/plain": [
       "array([0.09, 0.55, 0.49, 0.15, 0.75, 0.95, 0.75, 0.03, 0.02, 0.48, 0.85,\n",
       "       0.31, 0.94, 0.14, 0.95, 0.99, 1.  , 0.14, 0.05, 0.05, 0.54, 0.07,\n",
       "       0.69, 0.71, 0.64, 0.72, 0.8 , 0.77, 0.1 , 0.79, 0.05, 0.13, 0.02,\n",
       "       0.35, 0.58, 0.06, 0.66, 0.71, 0.65, 0.86, 0.87, 0.82, 0.84, 0.75,\n",
       "       0.75, 0.28, 0.64, 0.98, 0.11, 0.05, 0.21, 0.18, 0.83, 0.74, 0.05,\n",
       "       0.11, 0.31, 1.  , 0.11, 0.01, 0.22, 0.96, 0.24, 0.45, 0.93, 0.13,\n",
       "       0.35, 0.53, 0.85, 0.86, 0.81, 0.92, 0.58, 0.87, 0.22, 0.93])"
      ]
     },
     "execution_count": 21,
     "metadata": {},
     "output_type": "execute_result"
    }
   ],
   "source": [
    "# Left column represents probability of prediction being *False* while right column represents probability of prediction being *True*\n",
    "Y_positive = Y_probs_pred[:,1]\n",
    "Y_positive"
   ]
  },
  {
   "cell_type": "markdown",
   "id": "b23e90d6",
   "metadata": {},
   "source": [
    "- Calculating FPR, TPR,and Thresholds:"
   ]
  },
  {
   "cell_type": "code",
   "execution_count": 22,
   "id": "6cd1295f",
   "metadata": {},
   "outputs": [
    {
     "data": {
      "text/plain": [
       "array([0.        , 0.        , 0.        , 0.        , 0.        ,\n",
       "       0.        , 0.        , 0.        , 0.02857143, 0.02857143,\n",
       "       0.02857143, 0.05714286, 0.05714286, 0.05714286, 0.05714286,\n",
       "       0.08571429, 0.08571429, 0.11428571, 0.11428571, 0.17142857,\n",
       "       0.2       , 0.2       , 0.22857143, 0.22857143, 0.25714286,\n",
       "       0.31428571, 0.37142857, 0.45714286, 0.57142857, 0.65714286,\n",
       "       0.77142857, 0.88571429, 0.91428571, 0.97142857, 1.        ])"
      ]
     },
     "execution_count": 22,
     "metadata": {},
     "output_type": "execute_result"
    }
   ],
   "source": [
    "# Importing roc_curve:\n",
    "from sklearn.metrics import roc_curve\n",
    "fpr,tpr,thresholds = roc_curve(Y_test,Y_positive)\n",
    "\n",
    "# Printing out fpr:\n",
    "fpr"
   ]
  },
  {
   "cell_type": "markdown",
   "id": "81a8731c",
   "metadata": {},
   "source": [
    "## Step 5: Improving Model\n"
   ]
  },
  {
   "cell_type": "code",
   "execution_count": 23,
   "id": "2e147e78",
   "metadata": {},
   "outputs": [
    {
     "name": "stdout",
     "output_type": "stream",
     "text": [
      "Trying model with 10 estimators...\n",
      "Model accruacy on test set: 0.8289473684210527\n",
      "Cross-validation score: 80.5191256830601%\n",
      "\n",
      "Trying model with 20 estimators...\n",
      "Model accruacy on test set: 0.8026315789473685\n",
      "Cross-validation score: 79.85245901639344%\n",
      "\n",
      "Trying model with 30 estimators...\n",
      "Model accruacy on test set: 0.8157894736842105\n",
      "Cross-validation score: 81.16939890710381%\n",
      "\n",
      "Trying model with 40 estimators...\n",
      "Model accruacy on test set: 0.8421052631578947\n",
      "Cross-validation score: 81.83060109289617%\n",
      "\n",
      "Trying model with 50 estimators...\n",
      "Model accruacy on test set: 0.8289473684210527\n",
      "Cross-validation score: 82.1639344262295%\n",
      "\n",
      "Trying model with 60 estimators...\n",
      "Model accruacy on test set: 0.8421052631578947\n",
      "Cross-validation score: 83.8032786885246%\n",
      "\n",
      "Trying model with 70 estimators...\n",
      "Model accruacy on test set: 0.8157894736842105\n",
      "Cross-validation score: 81.81967213114754%\n",
      "\n",
      "Trying model with 80 estimators...\n",
      "Model accruacy on test set: 0.8552631578947368\n",
      "Cross-validation score: 82.49726775956286%\n",
      "\n",
      "Trying model with 90 estimators...\n",
      "Model accruacy on test set: 0.8421052631578947\n",
      "Cross-validation score: 81.49726775956283%\n",
      "\n"
     ]
    }
   ],
   "source": [
    "# Try different numbers of estimators with cross-validation and no cross-validation\n",
    "\n",
    "from sklearn.model_selection import cross_val_score\n",
    "\n",
    "for i in range(10, 100, 10):\n",
    "    print(f\"Trying model with {i} estimators...\")\n",
    "    model = RandomForestClassifier(n_estimators=i).fit(X_train, Y_train)\n",
    "    print(f\"Model accruacy on test set: {model.score(X_test, Y_test)}\")\n",
    "    print(f\"Cross-validation score: {np.mean(cross_val_score(model, X, Y, cv=5)) * 100}%\")\n",
    "    print(\"\")"
   ]
  },
  {
   "cell_type": "markdown",
   "id": "45a5bac9",
   "metadata": {},
   "source": [
    "## Step 6: Saving Trained Model"
   ]
  },
  {
   "cell_type": "code",
   "execution_count": 24,
   "id": "7d5c29cc",
   "metadata": {},
   "outputs": [],
   "source": [
    "import pickle\n",
    "\n",
    "# Save trained model to file\n",
    "pickle.dump(model, open(\"random_forest_model_1.pkl\", \"wb\"))"
   ]
  }
 ],
 "metadata": {
  "kernelspec": {
   "display_name": "Python 3 (ipykernel)",
   "language": "python",
   "name": "python3"
  },
  "language_info": {
   "codemirror_mode": {
    "name": "ipython",
    "version": 3
   },
   "file_extension": ".py",
   "mimetype": "text/x-python",
   "name": "python",
   "nbconvert_exporter": "python",
   "pygments_lexer": "ipython3",
   "version": "3.9.8"
  }
 },
 "nbformat": 4,
 "nbformat_minor": 5
}
