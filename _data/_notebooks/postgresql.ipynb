{
 "cells": [
  {
   "cell_type": "markdown",
   "metadata": {},
   "source": [
    "Starting with `import` statements:"
   ]
  },
  {
   "cell_type": "code",
   "execution_count": 1,
   "metadata": {},
   "outputs": [],
   "source": [
    "import pandas as pd\n",
    "import psycopg2 as psy\n",
    "from sqlalchemy import create_engine, inspect\n",
    "from sqlalchemy.orm import sessionmaker\n",
    "from sqlalchemy_utils import database_exists, create_database\n",
    "from config import param_dic as param_dic"
   ]
  },
  {
   "cell_type": "markdown",
   "metadata": {},
   "source": [
    "`param_dic` is a dictionary holding config info to connect to AWS DB"
   ]
  },
  {
   "cell_type": "markdown",
   "metadata": {},
   "source": [
    "Creating a `connection` object using `psycopg2`:"
   ]
  },
  {
   "cell_type": "code",
   "execution_count": 2,
   "metadata": {},
   "outputs": [],
   "source": [
    "conn = psy.connect(database=param_dic['db'], user=param_dic['user'],\n",
    "                   host=param_dic['host'], password=param_dic['password'], port=param_dic['port'])"
   ]
  },
  {
   "cell_type": "markdown",
   "metadata": {},
   "source": [
    "Creating a `cursor` **Factory**"
   ]
  },
  {
   "cell_type": "code",
   "execution_count": 3,
   "metadata": {},
   "outputs": [],
   "source": [
    "def query_executer(query):\n",
    "    cursor_obj = conn.cursor()\n",
    "    cursor_obj.execute(query)\n",
    "    conn.commit()"
   ]
  },
  {
   "cell_type": "markdown",
   "metadata": {},
   "source": [
    "Neccessary methods:"
   ]
  },
  {
   "cell_type": "markdown",
   "metadata": {},
   "source": [
    "Creating a `session` *getter* method:"
   ]
  },
  {
   "cell_type": "code",
   "execution_count": 4,
   "metadata": {},
   "outputs": [],
   "source": [
    "def get_session():\n",
    "    engine = get_engine(param_dic['user'], param_dic['password'], param_dic['host'], param_dic['port'], param_dic['db'])\n",
    "    session = sessionmaker(bind=engine)()\n",
    "    return session"
   ]
  },
  {
   "cell_type": "markdown",
   "metadata": {},
   "source": [
    "Creating an `engine` *getter* method:"
   ]
  },
  {
   "cell_type": "code",
   "execution_count": 5,
   "metadata": {},
   "outputs": [],
   "source": [
    "def get_engine(user, password, host, port, db):\n",
    "    engine_url = f\"postgresql://{user}:{password}@{host}:{port}/{db}\"\n",
    "    if not database_exists(engine_url):\n",
    "        create_database(engine_url)\n",
    "    sql_engine = create_engine(engine_url, pool_size=50, echo=False)\n",
    "    return sql_engine"
   ]
  },
  {
   "cell_type": "markdown",
   "metadata": {},
   "source": [
    "Creating engine object:"
   ]
  },
  {
   "cell_type": "code",
   "execution_count": 6,
   "metadata": {},
   "outputs": [],
   "source": [
    "engine = get_engine(param_dic['user'], param_dic['password'], param_dic['host'], param_dic['port'], param_dic['db'])\n",
    "engine.connect()\n",
    "session = get_session()"
   ]
  },
  {
   "cell_type": "markdown",
   "metadata": {},
   "source": [
    "To list tables in a database, an inspector object is needed; as engine.table_names() is deprecated"
   ]
  },
  {
   "cell_type": "code",
   "execution_count": 7,
   "metadata": {},
   "outputs": [
    {
     "name": "stdout",
     "output_type": "stream",
     "text": [
      "Tables in Database:\n",
      "[]\n"
     ]
    }
   ],
   "source": [
    "inspector = inspect(engine)\n",
    "print(\"Tables in Database:\")\n",
    "tables = inspector.get_table_names()\n",
    "print(tables)"
   ]
  },
  {
   "cell_type": "markdown",
   "metadata": {},
   "source": [
    "Creating Table **users** if it doesn't already exist:"
   ]
  },
  {
   "cell_type": "code",
   "execution_count": 8,
   "metadata": {},
   "outputs": [
    {
     "name": "stdout",
     "output_type": "stream",
     "text": [
      "TABLE CREATED\n"
     ]
    }
   ],
   "source": [
    "if 'users' not in tables:\n",
    "    query_executer(\"CREATE TABLE users (id INT NOT NULL PRIMARY KEY,username VARCHAR(15) UNIQUE,fullname VARCHAR(50),email VARCHAR(100));\")\n",
    "    print(\"TABLE CREATED\")\n",
    "else:\n",
    "    print(\"TABLE 'users' EXISTS !\")"
   ]
  },
  {
   "cell_type": "markdown",
   "metadata": {},
   "source": [
    "Storing **query** as pandas `DataFrame`:"
   ]
  },
  {
   "cell_type": "code",
   "execution_count": 9,
   "metadata": {},
   "outputs": [],
   "source": [
    "query = \"SELECT * FROM users\""
   ]
  },
  {
   "cell_type": "markdown",
   "metadata": {},
   "source": [
    "Create a query object using `pandas.read_sql()` method:"
   ]
  },
  {
   "cell_type": "code",
   "execution_count": 10,
   "metadata": {
    "scrolled": true
   },
   "outputs": [
    {
     "name": "stdout",
     "output_type": "stream",
     "text": [
      "Empty DataFrame\n",
      "Columns: [id, username, fullname, email]\n",
      "Index: []\n"
     ]
    }
   ],
   "source": [
    "query_obj = pd.read_sql(query, engine)\n",
    "print(query_obj)"
   ]
  },
  {
   "cell_type": "markdown",
   "metadata": {},
   "source": [
    "Inserting some data into the table with a function:"
   ]
  },
  {
   "cell_type": "code",
   "execution_count": 11,
   "metadata": {},
   "outputs": [],
   "source": [
    "def insert_data(id, username, fullname, email):\n",
    "    try:\n",
    "        ins_query = f'INSERT INTO users VALUES({id}, \\'{username}\\', \\'{fullname}\\', \\'{email}\\')'\n",
    "        query_executer(ins_query)\n",
    "        \n",
    "    except Exception as e:\n",
    "        print('Exception: ' + str(e))\n",
    "        conn.rollback()"
   ]
  },
  {
   "cell_type": "markdown",
   "metadata": {},
   "source": [
    "Using the `insert_data` method to INSERT 3 records into TABLE 'users':"
   ]
  },
  {
   "cell_type": "code",
   "execution_count": 12,
   "metadata": {},
   "outputs": [
    {
     "name": "stdout",
     "output_type": "stream",
     "text": [
      "   id     username           fullname                        email\n",
      "0   1  thrasher502    Mohammed Darras            some-email@domain\n",
      "1   2        Eddie  Mohammed Darras 2  some-different-email@domain\n"
     ]
    }
   ],
   "source": [
    "insert_data(1,\"thrasher502\",\"Mohammed Darras\",\"some-email@domain\")\n",
    "insert_data(2,\"Eddie\",\"Mohammed Darras 2\",\"some-different-email@domain\")\n",
    "query = \"SELECT * FROM users\"\n",
    "query_obj = pd.read_sql(query, engine)\n",
    "print(query_obj)"
   ]
  },
  {
   "cell_type": "markdown",
   "metadata": {},
   "source": [
    "Dynamic `id` (last id+1):"
   ]
  },
  {
   "cell_type": "code",
   "execution_count": 13,
   "metadata": {},
   "outputs": [],
   "source": [
    "if query_obj.empty:\n",
    "    last_id = 1\n",
    "else:\n",
    "    last_id = (query_obj.iloc[-1])['id']\n",
    "insert_data(last_id + 1,\"dynamicID\",\"using iloc\",\"whatever@domain\")"
   ]
  },
  {
   "cell_type": "markdown",
   "metadata": {},
   "source": [
    "Printing Table after data insertion:"
   ]
  },
  {
   "cell_type": "code",
   "execution_count": 14,
   "metadata": {},
   "outputs": [
    {
     "name": "stdout",
     "output_type": "stream",
     "text": [
      "   id     username           fullname                        email\n",
      "0   1  thrasher502    Mohammed Darras            some-email@domain\n",
      "1   2        Eddie  Mohammed Darras 2  some-different-email@domain\n",
      "2   3    dynamicID         using iloc              whatever@domain\n"
     ]
    }
   ],
   "source": [
    "query = \"SELECT * FROM users\"\n",
    "query_obj = pd.read_sql(query, engine)\n",
    "print(query_obj)"
   ]
  },
  {
   "cell_type": "markdown",
   "metadata": {},
   "source": [
    "Query with `WHERE`:"
   ]
  },
  {
   "cell_type": "code",
   "execution_count": 15,
   "metadata": {},
   "outputs": [
    {
     "name": "stdout",
     "output_type": "stream",
     "text": [
      "   id     username         fullname              email\n",
      "0   1  thrasher502  Mohammed Darras  some-email@domain\n"
     ]
    }
   ],
   "source": [
    "query = \"SELECT * FROM users WHERE username = 'thrasher502'\"\n",
    "query_obj = pd.read_sql(query, engine)\n",
    "print(query_obj)"
   ]
  }
 ],
 "metadata": {
  "kernelspec": {
   "display_name": "Python 3 (ipykernel)",
   "language": "python",
   "name": "python3"
  },
  "language_info": {
   "codemirror_mode": {
    "name": "ipython",
    "version": 3
   },
   "file_extension": ".py",
   "mimetype": "text/x-python",
   "name": "python",
   "nbconvert_exporter": "python",
   "pygments_lexer": "ipython3",
   "version": "3.9.8"
  }
 },
 "nbformat": 4,
 "nbformat_minor": 2
}
